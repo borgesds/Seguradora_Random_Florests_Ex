{
 "cells": [
  {
   "cell_type": "markdown",
   "id": "d36e0244",
   "metadata": {},
   "source": [
    "# 1.0 IMPORTS"
   ]
  },
  {
   "cell_type": "code",
   "execution_count": 129,
   "id": "9dca2c4a",
   "metadata": {
    "ExecuteTime": {
     "end_time": "2021-11-14T21:43:31.214953Z",
     "start_time": "2021-11-14T21:43:31.202379Z"
    }
   },
   "outputs": [],
   "source": [
    "import pandas as pd\n",
    "import numpy as np\n",
    "import seaborn as sns\n",
    "import matplotlib.pyplot as plt\n",
    "\n",
    "from sklearn.model_selection import train_test_split\n",
    "from sklearn.ensemble import RandomForestClassifier\n",
    "from sklearn.metrics import confusion_matrix\n",
    "from sklearn.metrics import classification_report\n",
    "from warnings import filterwarnings"
   ]
  },
  {
   "cell_type": "markdown",
   "id": "e9baae9c",
   "metadata": {},
   "source": [
    "## 1.1 Load data"
   ]
  },
  {
   "cell_type": "code",
   "execution_count": 130,
   "id": "11cb3348",
   "metadata": {
    "ExecuteTime": {
     "end_time": "2021-11-14T21:43:31.345188Z",
     "start_time": "2021-11-14T21:43:31.217034Z"
    }
   },
   "outputs": [],
   "source": [
    "# Plan 1 = Base de dados\n",
    "# Plan 2 = Novas entradas\n",
    "\n",
    "base_dados = pd.read_excel('data/BaseDados_FlorestaDeDecisão.xlsx', 'Plan1')"
   ]
  },
  {
   "cell_type": "markdown",
   "id": "a329298a",
   "metadata": {},
   "source": [
    "## 1.2 Visualize data"
   ]
  },
  {
   "cell_type": "code",
   "execution_count": 131,
   "id": "4014f7aa",
   "metadata": {
    "ExecuteTime": {
     "end_time": "2021-11-14T21:43:31.354345Z",
     "start_time": "2021-11-14T21:43:31.346689Z"
    }
   },
   "outputs": [
    {
     "data": {
      "text/html": [
       "<div>\n",
       "<style scoped>\n",
       "    .dataframe tbody tr th:only-of-type {\n",
       "        vertical-align: middle;\n",
       "    }\n",
       "\n",
       "    .dataframe tbody tr th {\n",
       "        vertical-align: top;\n",
       "    }\n",
       "\n",
       "    .dataframe thead th {\n",
       "        text-align: right;\n",
       "    }\n",
       "</style>\n",
       "<table border=\"1\" class=\"dataframe\">\n",
       "  <thead>\n",
       "    <tr style=\"text-align: right;\">\n",
       "      <th></th>\n",
       "      <th>Id Cliente</th>\n",
       "      <th>Idade</th>\n",
       "      <th>Preço Seguro</th>\n",
       "      <th>CEP</th>\n",
       "      <th>Serviço</th>\n",
       "    </tr>\n",
       "  </thead>\n",
       "  <tbody>\n",
       "    <tr>\n",
       "      <th>0</th>\n",
       "      <td>1</td>\n",
       "      <td>69</td>\n",
       "      <td>3930</td>\n",
       "      <td>19005</td>\n",
       "      <td>3</td>\n",
       "    </tr>\n",
       "    <tr>\n",
       "      <th>1</th>\n",
       "      <td>2</td>\n",
       "      <td>27</td>\n",
       "      <td>3336</td>\n",
       "      <td>19027</td>\n",
       "      <td>1</td>\n",
       "    </tr>\n",
       "    <tr>\n",
       "      <th>2</th>\n",
       "      <td>3</td>\n",
       "      <td>49</td>\n",
       "      <td>3936</td>\n",
       "      <td>19001</td>\n",
       "      <td>3</td>\n",
       "    </tr>\n",
       "    <tr>\n",
       "      <th>3</th>\n",
       "      <td>4</td>\n",
       "      <td>60</td>\n",
       "      <td>157</td>\n",
       "      <td>19009</td>\n",
       "      <td>1</td>\n",
       "    </tr>\n",
       "    <tr>\n",
       "      <th>4</th>\n",
       "      <td>5</td>\n",
       "      <td>51</td>\n",
       "      <td>3998</td>\n",
       "      <td>19050</td>\n",
       "      <td>2</td>\n",
       "    </tr>\n",
       "  </tbody>\n",
       "</table>\n",
       "</div>"
      ],
      "text/plain": [
       "   Id Cliente  Idade  Preço Seguro    CEP  Serviço\n",
       "0           1     69          3930  19005        3\n",
       "1           2     27          3336  19027        1\n",
       "2           3     49          3936  19001        3\n",
       "3           4     60           157  19009        1\n",
       "4           5     51          3998  19050        2"
      ]
     },
     "execution_count": 131,
     "metadata": {},
     "output_type": "execute_result"
    }
   ],
   "source": [
    "# 1 = Não usou\n",
    "# 2 = Serviço\n",
    "# 3 = Furto\n",
    "\n",
    "base_dados.head()"
   ]
  },
  {
   "cell_type": "code",
   "execution_count": 132,
   "id": "0ee66557",
   "metadata": {
    "ExecuteTime": {
     "end_time": "2021-11-14T21:43:31.446448Z",
     "start_time": "2021-11-14T21:43:31.355934Z"
    }
   },
   "outputs": [
    {
     "name": "stdout",
     "output_type": "stream",
     "text": [
      "<class 'pandas.core.frame.DataFrame'>\n",
      "RangeIndex: 499 entries, 0 to 498\n",
      "Data columns (total 5 columns):\n",
      " #   Column        Non-Null Count  Dtype\n",
      "---  ------        --------------  -----\n",
      " 0   Id Cliente    499 non-null    int64\n",
      " 1   Idade         499 non-null    int64\n",
      " 2   Preço Seguro  499 non-null    int64\n",
      " 3   CEP           499 non-null    int64\n",
      " 4   Serviço       499 non-null    int64\n",
      "dtypes: int64(5)\n",
      "memory usage: 19.6 KB\n"
     ]
    }
   ],
   "source": [
    "base_dados.info()"
   ]
  },
  {
   "cell_type": "code",
   "execution_count": 133,
   "id": "01661e5b",
   "metadata": {
    "ExecuteTime": {
     "end_time": "2021-11-14T21:43:31.526187Z",
     "start_time": "2021-11-14T21:43:31.447650Z"
    }
   },
   "outputs": [
    {
     "data": {
      "text/html": [
       "<div>\n",
       "<style scoped>\n",
       "    .dataframe tbody tr th:only-of-type {\n",
       "        vertical-align: middle;\n",
       "    }\n",
       "\n",
       "    .dataframe tbody tr th {\n",
       "        vertical-align: top;\n",
       "    }\n",
       "\n",
       "    .dataframe thead th {\n",
       "        text-align: right;\n",
       "    }\n",
       "</style>\n",
       "<table border=\"1\" class=\"dataframe\">\n",
       "  <thead>\n",
       "    <tr style=\"text-align: right;\">\n",
       "      <th></th>\n",
       "      <th>Id Cliente</th>\n",
       "      <th>Idade</th>\n",
       "      <th>Preço Seguro</th>\n",
       "      <th>CEP</th>\n",
       "      <th>Serviço</th>\n",
       "    </tr>\n",
       "  </thead>\n",
       "  <tbody>\n",
       "    <tr>\n",
       "      <th>count</th>\n",
       "      <td>499.000000</td>\n",
       "      <td>499.000000</td>\n",
       "      <td>499.000000</td>\n",
       "      <td>499.000000</td>\n",
       "      <td>499.000000</td>\n",
       "    </tr>\n",
       "    <tr>\n",
       "      <th>mean</th>\n",
       "      <td>250.000000</td>\n",
       "      <td>49.541082</td>\n",
       "      <td>1935.827655</td>\n",
       "      <td>19024.793587</td>\n",
       "      <td>1.901804</td>\n",
       "    </tr>\n",
       "    <tr>\n",
       "      <th>std</th>\n",
       "      <td>144.193157</td>\n",
       "      <td>18.185121</td>\n",
       "      <td>1401.582991</td>\n",
       "      <td>15.088610</td>\n",
       "      <td>0.857507</td>\n",
       "    </tr>\n",
       "    <tr>\n",
       "      <th>min</th>\n",
       "      <td>1.000000</td>\n",
       "      <td>18.000000</td>\n",
       "      <td>100.000000</td>\n",
       "      <td>19000.000000</td>\n",
       "      <td>1.000000</td>\n",
       "    </tr>\n",
       "    <tr>\n",
       "      <th>25%</th>\n",
       "      <td>125.500000</td>\n",
       "      <td>33.500000</td>\n",
       "      <td>611.000000</td>\n",
       "      <td>19011.000000</td>\n",
       "      <td>1.000000</td>\n",
       "    </tr>\n",
       "    <tr>\n",
       "      <th>50%</th>\n",
       "      <td>250.000000</td>\n",
       "      <td>51.000000</td>\n",
       "      <td>1661.000000</td>\n",
       "      <td>19025.000000</td>\n",
       "      <td>2.000000</td>\n",
       "    </tr>\n",
       "    <tr>\n",
       "      <th>75%</th>\n",
       "      <td>374.500000</td>\n",
       "      <td>65.000000</td>\n",
       "      <td>3322.000000</td>\n",
       "      <td>19038.000000</td>\n",
       "      <td>3.000000</td>\n",
       "    </tr>\n",
       "    <tr>\n",
       "      <th>max</th>\n",
       "      <td>499.000000</td>\n",
       "      <td>80.000000</td>\n",
       "      <td>3998.000000</td>\n",
       "      <td>19050.000000</td>\n",
       "      <td>3.000000</td>\n",
       "    </tr>\n",
       "  </tbody>\n",
       "</table>\n",
       "</div>"
      ],
      "text/plain": [
       "       Id Cliente       Idade  Preço Seguro           CEP     Serviço\n",
       "count  499.000000  499.000000    499.000000    499.000000  499.000000\n",
       "mean   250.000000   49.541082   1935.827655  19024.793587    1.901804\n",
       "std    144.193157   18.185121   1401.582991     15.088610    0.857507\n",
       "min      1.000000   18.000000    100.000000  19000.000000    1.000000\n",
       "25%    125.500000   33.500000    611.000000  19011.000000    1.000000\n",
       "50%    250.000000   51.000000   1661.000000  19025.000000    2.000000\n",
       "75%    374.500000   65.000000   3322.000000  19038.000000    3.000000\n",
       "max    499.000000   80.000000   3998.000000  19050.000000    3.000000"
      ]
     },
     "execution_count": 133,
     "metadata": {},
     "output_type": "execute_result"
    }
   ],
   "source": [
    "base_dados.describe()"
   ]
  },
  {
   "cell_type": "markdown",
   "id": "90fac7a1",
   "metadata": {
    "heading_collapsed": true
   },
   "source": [
    "# 2.0 VIEW CHARTS"
   ]
  },
  {
   "cell_type": "code",
   "execution_count": 134,
   "id": "1ed0332e",
   "metadata": {
    "ExecuteTime": {
     "end_time": "2021-11-14T21:43:32.488495Z",
     "start_time": "2021-11-14T21:43:31.527338Z"
    },
    "hidden": true
   },
   "outputs": [
    {
     "data": {
      "image/png": "[encoded data removed]",
      "text/plain": [
       "<Figure size 1440x1440 with 6 Axes>"
      ]
     },
     "metadata": {},
     "output_type": "display_data"
    }
   ],
   "source": [
    "sns.set(font_scale=1.5, rc={'figure.figsize':(20,20)})\n",
    "eixo = base_dados.hist(bins=20, color='purple')"
   ]
  },
  {
   "cell_type": "code",
   "execution_count": 135,
   "id": "6c554314",
   "metadata": {
    "ExecuteTime": {
     "end_time": "2021-11-14T21:43:32.611185Z",
     "start_time": "2021-11-14T21:43:32.489858Z"
    },
    "hidden": true
   },
   "outputs": [
    {
     "data": {
      "image/png": "[encoded data removed]",
      "text/plain": [
       "<Figure size 720x360 with 1 Axes>"
      ]
     },
     "metadata": {},
     "output_type": "display_data"
    }
   ],
   "source": [
    "plt.figure(figsize=(10,5))\n",
    "sns.boxplot(data=base_dados, x='Serviço', y='Idade');"
   ]
  },
  {
   "cell_type": "code",
   "execution_count": 136,
   "id": "5c11dc7c",
   "metadata": {
    "ExecuteTime": {
     "end_time": "2021-11-14T21:43:32.729565Z",
     "start_time": "2021-11-14T21:43:32.613300Z"
    },
    "hidden": true
   },
   "outputs": [
    {
     "data": {
      "image/png": "[encoded data removed]",
      "text/plain": [
       "<Figure size 720x360 with 1 Axes>"
      ]
     },
     "metadata": {},
     "output_type": "display_data"
    }
   ],
   "source": [
    "plt.figure(figsize=(10,5))\n",
    "sns.boxplot(data=base_dados, x='Serviço', y='Preço Seguro');"
   ]
  },
  {
   "cell_type": "code",
   "execution_count": 137,
   "id": "b7727f46",
   "metadata": {
    "ExecuteTime": {
     "end_time": "2021-11-14T21:43:32.851354Z",
     "start_time": "2021-11-14T21:43:32.731022Z"
    },
    "hidden": true
   },
   "outputs": [
    {
     "data": {
      "image/png": "[encoded data removed]",
      "text/plain": [
       "<Figure size 720x360 with 1 Axes>"
      ]
     },
     "metadata": {},
     "output_type": "display_data"
    }
   ],
   "source": [
    "plt.figure(figsize=(10,5))\n",
    "sns.boxplot(data=base_dados, x='Serviço', y='CEP');"
   ]
  },
  {
   "cell_type": "markdown",
   "id": "c0ceef21",
   "metadata": {},
   "source": [
    "# 3.0 TRAINING AND TESTING"
   ]
  },
  {
   "cell_type": "code",
   "execution_count": 138,
   "id": "1e03360d",
   "metadata": {
    "ExecuteTime": {
     "end_time": "2021-11-14T21:43:32.858352Z",
     "start_time": "2021-11-14T21:43:32.852752Z"
    }
   },
   "outputs": [],
   "source": [
    "# transformar tabela em array (values)\n",
    "caracteristicas = base_dados.iloc[:, 1:4].values\n",
    "previsor = base_dados.iloc[:, 4:5].values"
   ]
  },
  {
   "cell_type": "code",
   "execution_count": 139,
   "id": "a8930ff3",
   "metadata": {
    "ExecuteTime": {
     "end_time": "2021-11-14T21:43:32.945009Z",
     "start_time": "2021-11-14T21:43:32.859561Z"
    }
   },
   "outputs": [
    {
     "name": "stdout",
     "output_type": "stream",
     "text": [
      "499\n",
      "349\n",
      "150\n"
     ]
    }
   ],
   "source": [
    "x_treinamento, x_teste, y_treinamento, y_teste = train_test_split(\n",
    "    caracteristicas, \n",
    "    previsor, \n",
    "    test_size=0.30, \n",
    "    random_state=10\n",
    ")\n",
    "\n",
    "print(len(base_dados))\n",
    "print(len(x_treinamento))\n",
    "print(len(x_teste))"
   ]
  },
  {
   "cell_type": "code",
   "execution_count": 140,
   "id": "e476c24c",
   "metadata": {
    "ExecuteTime": {
     "end_time": "2021-11-14T21:43:33.580764Z",
     "start_time": "2021-11-14T21:43:32.949503Z"
    }
   },
   "outputs": [
    {
     "name": "stderr",
     "output_type": "stream",
     "text": [
      "<ipython-input-140-28b456be07ba>:4: DataConversionWarning: A column-vector y was passed when a 1d array was expected. Please change the shape of y to (n_samples,), for example using ravel().\n",
      "  algoritmo_floresta_aleatoria.fit(x_treinamento, y_treinamento)\n"
     ]
    },
    {
     "data": {
      "text/plain": [
       "RandomForestClassifier(n_estimators=500)"
      ]
     },
     "execution_count": 140,
     "metadata": {},
     "output_type": "execute_result"
    }
   ],
   "source": [
    "algoritmo_floresta_aleatoria = RandomForestClassifier(n_estimators=500)\n",
    "\n",
    "# treinar modelo\n",
    "algoritmo_floresta_aleatoria.fit(x_treinamento, y_treinamento)"
   ]
  },
  {
   "cell_type": "code",
   "execution_count": 141,
   "id": "4c8d74e8",
   "metadata": {
    "ExecuteTime": {
     "end_time": "2021-11-14T21:43:33.792098Z",
     "start_time": "2021-11-14T21:43:33.582089Z"
    }
   },
   "outputs": [
    {
     "name": "stdout",
     "output_type": "stream",
     "text": [
      "[[63  4  1]\n",
      " [ 5 27  8]\n",
      " [ 0  0 42]]\n",
      "\n",
      "\n",
      "O zero é que nunca usou o seguro.\n",
      "O um é que usou algum serviço.\n",
      "O dois é que sofreu algum furto.\n"
     ]
    },
    {
     "data": {
      "image/png": "[encoded data removed]",
      "text/plain": [
       "<Figure size 864x432 with 2 Axes>"
      ]
     },
     "metadata": {},
     "output_type": "display_data"
    }
   ],
   "source": [
    "# previsão de valores\n",
    "previsoes = algoritmo_floresta_aleatoria.predict(x_teste)\n",
    "\n",
    "# matriz de confusão\n",
    "matriz_confusao = confusion_matrix(y_teste, previsoes)\n",
    "print(matriz_confusao)\n",
    "\n",
    "print('\\n')\n",
    "print('O zero é que nunca usou o seguro.')\n",
    "print('O um é que usou algum serviço.')\n",
    "print('O dois é que sofreu algum furto.')\n",
    "plt.figure(figsize=(12,6))\n",
    "sns.heatmap(matriz_confusao, annot=True);"
   ]
  },
  {
   "cell_type": "code",
   "execution_count": 142,
   "id": "68a20b69",
   "metadata": {
    "ExecuteTime": {
     "end_time": "2021-11-14T21:43:33.803922Z",
     "start_time": "2021-11-14T21:43:33.793404Z"
    }
   },
   "outputs": [
    {
     "name": "stdout",
     "output_type": "stream",
     "text": [
      "              precision    recall  f1-score   support\n",
      "\n",
      "           1       0.93      0.93      0.93        68\n",
      "           2       0.87      0.68      0.76        40\n",
      "           3       0.82      1.00      0.90        42\n",
      "\n",
      "    accuracy                           0.88       150\n",
      "   macro avg       0.87      0.87      0.86       150\n",
      "weighted avg       0.88      0.88      0.88       150\n",
      "\n"
     ]
    }
   ],
   "source": [
    "# acurácia do modelo\n",
    "report = classification_report(y_teste, previsoes)\n",
    "print(report)"
   ]
  },
  {
   "cell_type": "markdown",
   "id": "38b12fda",
   "metadata": {
    "ExecuteTime": {
     "end_time": "2021-11-14T21:05:23.526476Z",
     "start_time": "2021-11-14T21:05:23.520366Z"
    }
   },
   "source": [
    "# 4.0 PREDICTIONS"
   ]
  },
  {
   "cell_type": "code",
   "execution_count": 143,
   "id": "a90a3e1f",
   "metadata": {
    "ExecuteTime": {
     "end_time": "2021-11-14T21:43:33.911821Z",
     "start_time": "2021-11-14T21:43:33.805335Z"
    }
   },
   "outputs": [
    {
     "data": {
      "text/html": [
       "<div>\n",
       "<style scoped>\n",
       "    .dataframe tbody tr th:only-of-type {\n",
       "        vertical-align: middle;\n",
       "    }\n",
       "\n",
       "    .dataframe tbody tr th {\n",
       "        vertical-align: top;\n",
       "    }\n",
       "\n",
       "    .dataframe thead th {\n",
       "        text-align: right;\n",
       "    }\n",
       "</style>\n",
       "<table border=\"1\" class=\"dataframe\">\n",
       "  <thead>\n",
       "    <tr style=\"text-align: right;\">\n",
       "      <th></th>\n",
       "      <th>Id Cliente</th>\n",
       "      <th>Idade</th>\n",
       "      <th>Preço Seguro</th>\n",
       "      <th>CEP</th>\n",
       "    </tr>\n",
       "  </thead>\n",
       "  <tbody>\n",
       "    <tr>\n",
       "      <th>0</th>\n",
       "      <td>1001</td>\n",
       "      <td>25</td>\n",
       "      <td>801</td>\n",
       "      <td>19001</td>\n",
       "    </tr>\n",
       "    <tr>\n",
       "      <th>1</th>\n",
       "      <td>1002</td>\n",
       "      <td>27</td>\n",
       "      <td>1090</td>\n",
       "      <td>19027</td>\n",
       "    </tr>\n",
       "    <tr>\n",
       "      <th>2</th>\n",
       "      <td>1003</td>\n",
       "      <td>45</td>\n",
       "      <td>364</td>\n",
       "      <td>19030</td>\n",
       "    </tr>\n",
       "    <tr>\n",
       "      <th>3</th>\n",
       "      <td>1004</td>\n",
       "      <td>30</td>\n",
       "      <td>2428</td>\n",
       "      <td>19014</td>\n",
       "    </tr>\n",
       "    <tr>\n",
       "      <th>4</th>\n",
       "      <td>1005</td>\n",
       "      <td>32</td>\n",
       "      <td>891</td>\n",
       "      <td>19020</td>\n",
       "    </tr>\n",
       "  </tbody>\n",
       "</table>\n",
       "</div>"
      ],
      "text/plain": [
       "   Id Cliente  Idade  Preço Seguro    CEP\n",
       "0        1001     25           801  19001\n",
       "1        1002     27          1090  19027\n",
       "2        1003     45           364  19030\n",
       "3        1004     30          2428  19014\n",
       "4        1005     32           891  19020"
      ]
     },
     "execution_count": 143,
     "metadata": {},
     "output_type": "execute_result"
    }
   ],
   "source": [
    "novas_vendas = pd.read_excel('data/BaseDados_FlorestaDeDecisão.xlsx', 'Plan2')\n",
    "novas_vendas.head()"
   ]
  },
  {
   "cell_type": "code",
   "execution_count": 144,
   "id": "cc1bfe5c",
   "metadata": {
    "ExecuteTime": {
     "end_time": "2021-11-14T21:43:33.983469Z",
     "start_time": "2021-11-14T21:43:33.913465Z"
    }
   },
   "outputs": [],
   "source": [
    "prever = novas_vendas.iloc[:, 1:4].values\n",
    "\n",
    "novas_vendas['Previsao do Modelo'] = algoritmo_floresta_aleatoria.predict(prever)"
   ]
  },
  {
   "cell_type": "code",
   "execution_count": 145,
   "id": "83c75b42",
   "metadata": {
    "ExecuteTime": {
     "end_time": "2021-11-14T21:43:34.009246Z",
     "start_time": "2021-11-14T21:43:33.984626Z"
    }
   },
   "outputs": [
    {
     "data": {
      "text/plain": [
       "1    15\n",
       "2     5\n",
       "3     1\n",
       "Name: Previsao do Modelo, dtype: int64"
      ]
     },
     "execution_count": 145,
     "metadata": {},
     "output_type": "execute_result"
    }
   ],
   "source": [
    "novas_vendas['Previsao do Modelo'].value_counts()"
   ]
  }
 ],
 "metadata": {
  "kernelspec": {
   "display_name": "Python 3",
   "language": "python",
   "name": "python3"
  },
  "language_info": {
   "codemirror_mode": {
    "name": "ipython",
    "version": 3
   },
   "file_extension": ".py",
   "mimetype": "text/x-python",
   "name": "python",
   "nbconvert_exporter": "python",
   "pygments_lexer": "ipython3",
   "version": "3.8.8"
  },
  "toc": {
   "base_numbering": 1,
   "nav_menu": {},
   "number_sections": false,
   "sideBar": false,
   "skip_h1_title": false,
   "title_cell": "Table of Contents",
   "title_sidebar": "Contents",
   "toc_cell": false,
   "toc_position": {
    "height": "512px",
    "left": "1056px",
    "top": "90px",
    "width": "264px"
   },
   "toc_section_display": true,
   "toc_window_display": false
  }
 },
 "nbformat": 4,
 "nbformat_minor": 5
}
